{
 "cells": [
  {
   "cell_type": "code",
   "execution_count": 1,
   "metadata": {},
   "outputs": [],
   "source": [
    "import smtplib\n",
    "from email.mime.text import MIMEText\n",
    "from email.mime.multipart import MIMEMultipart\n",
    "from email.mime.base import MIMEBase\n",
    "from email import encoders"
   ]
  },
  {
   "cell_type": "code",
   "execution_count": 2,
   "metadata": {},
   "outputs": [],
   "source": [
    "email_user = '...'#email of user\n",
    "email_password = '...'#password of user's email account\n",
    "email_send = '...'#the email receiving the mail"
   ]
  },
  {
   "cell_type": "code",
   "execution_count": 3,
   "metadata": {},
   "outputs": [],
   "source": [
    "subject='Sending File Using SMTP'\n",
    "msg=MIMEMultipart()\n",
    "msg['From']=email_user\n",
    "msg['To']=email_send\n",
    "msg['Subject']=subject"
   ]
  },
  {
   "cell_type": "code",
   "execution_count": 6,
   "metadata": {},
   "outputs": [
    {
     "data": {
      "text/plain": [
       "(221, b'2.0.0 closing connection t17sm5690264wmj.34 - gsmtp')"
      ]
     },
     "execution_count": 6,
     "metadata": {},
     "output_type": "execute_result"
    }
   ],
   "source": [
    "body=\"Hello, this email is sending from Python!\"\n",
    "msg.attach(MIMEText(body,'plain'))\n",
    "\n",
    "filename='Example.txt'\n",
    "attachment=open(filename,'rb')\n",
    "\n",
    "part=MIMEBase('application','octet-stream')\n",
    "part.set_payload((attachment).read())\n",
    "encoders.encode_base64(part)\n",
    "part.add_header('Content-Disposition',\"attachment; filename= \"+filename)\n",
    "\n",
    "msg.attach(part)\n",
    "text=msg.as_string()\n",
    "server=smtplib.SMTP('smtp.gmail.com',587)\n",
    "server.starttls()\n",
    "server.login(email_user,email_password)\n",
    "\n",
    "server.sendmail(email_user,email_send,text)\n",
    "server.quit()"
   ]
  },
  {
   "cell_type": "code",
   "execution_count": null,
   "metadata": {},
   "outputs": [],
   "source": []
  }
 ],
 "metadata": {
  "kernelspec": {
   "display_name": "Python 3",
   "language": "python",
   "name": "python3"
  },
  "language_info": {
   "codemirror_mode": {
    "name": "ipython",
    "version": 3
   },
   "file_extension": ".py",
   "mimetype": "text/x-python",
   "name": "python",
   "nbconvert_exporter": "python",
   "pygments_lexer": "ipython3",
   "version": "3.7.6"
  }
 },
 "nbformat": 4,
 "nbformat_minor": 4
}
